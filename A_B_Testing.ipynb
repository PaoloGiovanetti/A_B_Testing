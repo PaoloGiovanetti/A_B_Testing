{
 "cells": [
  {
   "cell_type": "markdown",
   "metadata": {},
   "source": [
    "A quick code to run an A/B testing where the variation made in test B is hypothetically leading a higher conversion rate than test A.                                                                             \n",
    "\n",
    "A/B testing is also known as split testing - it's a process of showing two variants of the same web page to          different segments of website visitors at the same time and comparing which variant drives more conversions.       \n",
    " "
   ]
  },
  {
   "cell_type": "code",
   "execution_count": 1,
   "metadata": {},
   "outputs": [],
   "source": [
    "# Libraries and modules that you are going to use for the A/B testing analysis\n",
    "import math\n",
    "import matplotlib.pyplot as plt\n",
    "import pandas as pd"
   ]
  },
  {
   "cell_type": "code",
   "execution_count": 2,
   "metadata": {},
   "outputs": [],
   "source": [
    "# Creating few functions that you are going to use in the analysis\n",
    "def normal_pdf(x, mu=0, sigma=1):\n",
    "    \"\"\"Defining a function that returns to a PDF normal distribution\"\"\"\n",
    "    sqrt_two_pi = math.sqrt(2 * math.pi)\n",
    "    return (math.exp(-(x-mu) ** 2 / 2 / sigma ** 2) / (sqrt_two_pi * sigma))"
   ]
  },
  {
   "cell_type": "code",
   "execution_count": 3,
   "metadata": {},
   "outputs": [],
   "source": [
    "def normal_cdf(x, mu=0,sigma=1):\n",
    "    \"\"\"Defining a function that returns to the CDF normal distribution\"\"\"\n",
    "    return (1 + math.erf((x - mu) / math.sqrt(2) / sigma)) / 2"
   ]
  },
  {
   "cell_type": "code",
   "execution_count": 4,
   "metadata": {},
   "outputs": [],
   "source": [
    "def estimated_parameters(N, n): \n",
    "    \"\"\"Defining a function that returns to the probability given n(# of successes) and N(total # of visitors), \n",
    "    and its standar deviation(sigma)\"\"\"\n",
    "    p=n/N\n",
    "    sigma = math.sqrt(p * (1 - p) / N) \n",
    "    return p, sigma"
   ]
  },
  {
   "cell_type": "code",
   "execution_count": 5,
   "metadata": {},
   "outputs": [],
   "source": [
    "def a_b_test_statistic(N_A, n_A, N_B, n_B):\n",
    "    \"\"\"Defining a function that returns to the z-score of two proportions- The z-score test for two population \n",
    "    proportions is used when you want to know whether two groups (visitors A and visitors B) differ significantly\n",
    "    on some single characteristic (conversion rate)\"\"\"\n",
    "    p_A, sigma_A = estimated_parameters(N_A, n_A)\n",
    "    p_B, sigma_B = estimated_parameters(N_B, n_B)\n",
    "    return (p_B - p_A) / math.sqrt(sigma_A ** 2 + sigma_B ** 2) "
   ]
  },
  {
   "cell_type": "code",
   "execution_count": 6,
   "metadata": {},
   "outputs": [],
   "source": [
    "def normal_probability_above(lo, mu=0, sigma=1): \n",
    "    \"\"\"Defining a function that returns to the probability above a certain threshold\"\"\" # In this case the threshold is the z-score \n",
    "    return 1 - normal_cdf(lo, mu, sigma)"
   ]
  },
  {
   "cell_type": "code",
   "execution_count": 7,
   "metadata": {},
   "outputs": [],
   "source": [
    "def one_sided_p_value(x, mu=0, sigma=1): \n",
    "    \"\"\"Defining a function that returns to one side p-value\"\"\" \n",
    "    #  You are using the one sided test because you are giving a direction - test_B >(must be greater than) test_A\n",
    "    if x >= mu:\n",
    "           # if x is greater than the mean, the tail is what's greater than x\n",
    "        return normal_probability_above(x, mu, sigma) \n",
    "    else:\n",
    "           # if x is less than the mean, the tail is what's less than x\n",
    "        return  normal_cdf(x, mu, sigma)"
   ]
  },
  {
   "cell_type": "code",
   "execution_count": 8,
   "metadata": {},
   "outputs": [],
   "source": [
    "# Data provided - You can change the data based off the given data\n",
    "visitors_a = 1860\n",
    "conversion_a = 250\n",
    "visitors_b = 1750\n",
    "conversion_b = 290"
   ]
  },
  {
   "cell_type": "code",
   "execution_count": 9,
   "metadata": {},
   "outputs": [
    {
     "name": "stdout",
     "output_type": "stream",
     "text": [
      "Your hypotesis states that the change or variation made in test B leads a higher conversion rate than test A.\n",
      "Indicating that CR_A is the conversion rate of A and CR_B the conversion rate of B, your null and alternative hypothesis are:\n",
      "- Ho : CR_B <= CR_B\n",
      "- Ha : CR_B > CR_A\n",
      "\n"
     ]
    }
   ],
   "source": [
    "# Starting the Analysis - Defining the hypothesis\n",
    "print(f\"Your hypotesis states that the change or variation made in test B leads a higher conversion rate than \"\n",
    "      f\"test A.\\nIndicating that CR_A is the conversion rate of A and CR_B the conversion rate of B, your null \"\n",
    "      f\"and alternative hypothesis are:\\n\"\n",
    "      f\"- Ho : CR_B <= CR_B\\n\"\n",
    "      f\"- Ha : CR_B > CR_A\\n\")"
   ]
  },
  {
   "cell_type": "code",
   "execution_count": 10,
   "metadata": {},
   "outputs": [],
   "source": [
    "# Defining Conversion Rate A, Conversion Rate B, lift conversion rate and the z-score.\n",
    "CR_A = conversion_a / visitors_a\n",
    "CR_B = conversion_b / visitors_b\n",
    "conversion_rate_lift = (conversion_b - conversion_a) / conversion_a     # To understand the impact of the change\n",
    "z = a_b_test_statistic(visitors_a, conversion_a, visitors_b, conversion_b)                            # z-score"
   ]
  },
  {
   "cell_type": "code",
   "execution_count": 11,
   "metadata": {},
   "outputs": [
    {
     "name": "stdout",
     "output_type": "stream",
     "text": [
      "   N° of visitors  Total conversions    CTR\n",
      "A            1860                250  0.13%\n",
      "B            1750                290  0.17%\n",
      "\n"
     ]
    }
   ],
   "source": [
    "# Creating a table with # of visitors - total conversions - Click Through Rate \n",
    "data_frame_A = pd.DataFrame({\"N° of visitors\": visitors_a,\"Total conversions\":conversion_a,\n",
    "                             \"CTR\":str(round((CR_A),2))+\"%\"},  index=list(\"A\"))\n",
    "data_frame_B = pd.DataFrame({\"N° of visitors\": visitors_b,\"Total conversions\":conversion_b,\n",
    "                             \"CTR\":str(round((CR_B),2))+\"%\"},  index=list(\"B\"))\n",
    "frames_A_B = data_frame_A, data_frame_B\n",
    "table_A_B_test = pd.concat(frames_A_B)\n",
    "print(f\"{table_A_B_test}\\n\")"
   ]
  },
  {
   "cell_type": "code",
   "execution_count": 12,
   "metadata": {},
   "outputs": [
    {
     "name": "stdout",
     "output_type": "stream",
     "text": [
      "The z score is: 2.63\n",
      "The p-value is: 0.004\n",
      "The conversion rate lift of B is 16.0 % higher than A conversion rate\n"
     ]
    }
   ],
   "source": [
    "# Showing z-score and p-value\n",
    "print(f\"The z score is: {round(z,2)}\")\n",
    "print(f\"The p-value is: {round(one_sided_p_value(z),3)}\") \n",
    "print(f\"The conversion rate lift of B is {round(conversion_rate_lift*100,2)} % higher than A conversion rate\")"
   ]
  },
  {
   "cell_type": "code",
   "execution_count": 13,
   "metadata": {},
   "outputs": [
    {
     "data": {
      "image/png": "[encoded data removed]",
      "text/plain": [
       "<Figure size 432x288 with 1 Axes>"
      ]
     },
     "metadata": {
      "needs_background": "light"
     },
     "output_type": "display_data"
    }
   ],
   "source": [
    "# Running the Analysis and deducting the conclusions.\n",
    "# Distributions Graph\n",
    "xs = [x / 10.0 for x in range(-50, 50)] # If you can't see properly the distributions graph reduce the divisor - ex. x / 5.0 \n",
    "plt.plot(xs,[normal_pdf(x-((CR_A)*10),sigma=1) for x in xs],\n",
    "                 \"-\",label=\"CR_A = \"+str(round((CR_A),2)))\n",
    "plt.plot(xs,[normal_pdf(x-((CR_B)*10),sigma=1) for x in xs],\n",
    "                 \"--\",label=\"CR_B = \"+str(round((CR_B),2)))\n",
    "plt.legend()\n",
    "plt.title(\"The expected distributions of variation A and B.\")\n",
    "plt.show()"
   ]
  },
  {
   "cell_type": "code",
   "execution_count": 14,
   "metadata": {},
   "outputs": [
    {
     "name": "stdout",
     "output_type": "stream",
     "text": [
      "You reject the Null Hypothesis - Conversion rate A is bigger or equal than B, and you accept Ha hypothesis - The change or variation made in test B leads a higher conversion rate than test A.\n",
      "More specificly, Variation B's observed conversion rate (16.57%) is 16.0% higher than variation A's conversion rate (13.44%).\n",
      "You can be 95% confident that this result is a consequence of the changes you made and not a result of random chance.\n"
     ]
    }
   ],
   "source": [
    "# Evidences and conclusions\n",
    "if one_sided_p_value(z) < 0.05 and (CR_B) > (CR_A):  \n",
    "    # P-value has to be greater than 0.05 beacuse you want to be 95% confident about the result\n",
    "      print(f\"You reject the Null Hypothesis - Conversion rate A is bigger or equal than B, and you accept \"\n",
    "            f\"Ha hypothesis - The change or variation made in test B leads a higher conversion rate than test A.\\n\"\n",
    "            f\"More specificly, Variation B's observed conversion rate ({round(((CR_B)*100),2)}%) \"  \n",
    "            f\"is {round((conversion_rate_lift*100),2)}% higher \"\n",
    "            f\"than variation A's conversion rate ({round(((CR_A)*100),2)}%).\\n\"\n",
    "            f\"You can be 95% confident that this \"\n",
    "            f\"result is a consequence of the changes you made and not a result of random chance.\")\n",
    "else:\n",
    "      print(f\"You have to accept the Null Hypothesis (Ho) - Conversion rate A is bigger or equal than B. \" \n",
    "            f\"The reasons could be that:\\n- Observed difference in conversion \"\n",
    "            f\"rate isn't big enough to declare a significant winner(p_value > 0.05).\\n\"\n",
    "            f\"- There is no real difference in performance between A and B.\\n\")"
   ]
  }
 ],
 "metadata": {
  "kernelspec": {
   "display_name": "Python 3",
   "language": "python",
   "name": "python3"
  },
  "language_info": {
   "codemirror_mode": {
    "name": "ipython",
    "version": 3
   },
   "file_extension": ".py",
   "mimetype": "text/x-python",
   "name": "python",
   "nbconvert_exporter": "python",
   "pygments_lexer": "ipython3",
   "version": "3.7.9"
  }
 },
 "nbformat": 4,
 "nbformat_minor": 4
}
